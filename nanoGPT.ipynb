{
 "cells": [
  {
   "cell_type": "code",
   "execution_count": 136,
   "id": "590717e6-1201-4df4-a4be-892213040330",
   "metadata": {},
   "outputs": [],
   "source": [
    "import torch\n",
    "from torch import nn\n",
    "from torch.nn import functional as F"
   ]
  },
  {
   "cell_type": "code",
   "execution_count": 3,
   "id": "312b1e33-cbac-41d1-a62f-8b30bb853a3e",
   "metadata": {},
   "outputs": [],
   "source": [
    "file = open('tinyShakespeare.txt', 'r')\n",
    "text = file.read()"
   ]
  },
  {
   "cell_type": "code",
   "execution_count": 27,
   "id": "436348f0-1837-41c8-9d8f-e8b811187bac",
   "metadata": {},
   "outputs": [
    {
     "name": "stdout",
     "output_type": "stream",
     "text": [
      "65\n",
      "\n",
      " !$&',-.3:;?ABCDEFGHIJKLMNOPQRSTUVWXYZabcdefghijklmnopqrstuvwxyz\n"
     ]
    }
   ],
   "source": [
    "characters = ''.join(sorted((list(set(text)))))\n",
    "vocab_size = len(characters)\n",
    "print(vocab_size)\n",
    "print(characters)"
   ]
  },
  {
   "cell_type": "code",
   "execution_count": 167,
   "id": "6de6b9e8-abe8-4da2-ac82-131bf5001ec0",
   "metadata": {},
   "outputs": [],
   "source": [
    "# Create string to/from integer mapping\n",
    "stoi = {c:i for i, c in enumerate(characters)}\n",
    "itos = {i:c for i, c in enumerate(characters)}\n",
    "\n",
    "# Encoding/Decoding functions to/from integer/character\n",
    "encode = lambda s: [stoi[c] for c in s]\n",
    "decode = lambda l: ''.join([itos[n] for n in l])"
   ]
  },
  {
   "cell_type": "code",
   "execution_count": 60,
   "id": "2712f8eb-7d7d-41fa-ac8c-6165c8cf3b9e",
   "metadata": {},
   "outputs": [],
   "source": [
    "# Convert text into a encoded torch tensor\n",
    "data = torch.tensor(encode(text), dtype=torch.long)"
   ]
  },
  {
   "cell_type": "code",
   "execution_count": 66,
   "id": "35a056f9-b0c6-4d7b-9ab7-ec654c7001d1",
   "metadata": {},
   "outputs": [],
   "source": [
    "# Create training and testing split of data \n",
    "train_size = int(len(text) * .9)\n",
    "train_data = data[:train_size]\n",
    "test_data = data[train_size:]"
   ]
  },
  {
   "cell_type": "code",
   "execution_count": 147,
   "id": "834bebc4-bc5b-4d54-a587-1e1dd576c453",
   "metadata": {},
   "outputs": [],
   "source": [
    "# Create batches\n",
    "\n",
    "torch.manual_seed(1337)\n",
    "\n",
    "block_size = 8\n",
    "batch_size = 4\n",
    "\n",
    "def get_batch(split):\n",
    "    data = train_data if split == 'train' else test_data\n",
    "    ix = torch.randint(len(data) - block_size, (batch_size, ))\n",
    "    x = torch.stack([data[i:i+block_size] for i in ix])\n",
    "    y = torch.stack([data[i+1:i+block_size+1] for i in ix])\n",
    "    return x, y \n",
    "\n",
    "xb, yb = get_batch('train')"
   ]
  },
  {
   "cell_type": "code",
   "execution_count": 200,
   "id": "d4262e07-b0fc-46a7-bf3c-b4d55658d90a",
   "metadata": {},
   "outputs": [
    {
     "name": "stdout",
     "output_type": "stream",
     "text": [
      "\n",
      "Sr?qP-QWktXoL&jLDJgOLVz'RIoDqHdhsV&vLLxatjscMpwLERSPyao.qfzs$Ys$zF-w,;eEkzxjgCKFChs!iWW.ObzDnxA Ms$3\n"
     ]
    }
   ],
   "source": [
    "torch.manual_seed(1337)\n",
    "\n",
    "class BigramLanguageModel(nn.Module):\n",
    "    def __init__(self, vocab_size):\n",
    "        super().__init__()\n",
    "        self.token_embedding_table = nn.Embedding(vocab_size, vocab_size)\n",
    "        \n",
    "    def forward(self, inputs, targets=None):\n",
    "        logits = self.token_embedding_table(inputs)\n",
    "\n",
    "        if targets == None:\n",
    "            loss = None\n",
    "        else: \n",
    "            B,T,C = logits.shape\n",
    "            logits = logits.view(B*T, C)\n",
    "            targets = targets.view(B*T)\n",
    "            loss = F.cross_entropy(logits, targets)\n",
    "\n",
    "        return logits, loss\n",
    "\n",
    "    def generate(self, idx, max_new_tokens):\n",
    "        for _ in range(max_new_tokens):\n",
    "            logits, loss = self(idx)\n",
    "            logits = logits[:,-1,:]\n",
    "            probs = F.softmax(logits, dim=-1)\n",
    "            idx_next = torch.multinomial(probs, num_samples=1)\n",
    "            idx = torch.cat((idx, idx_next), dim=1)\n",
    "            \n",
    "        return idx \n",
    "\n",
    "model = BigramLanguageModel(vocab_size)\n",
    "logits, loss = model.forward(xb, yb)\n",
    "\n",
    "\n",
    "start_idx = torch.zeros((1,1), dtype=torch.long)\n",
    "generation = model.generate(idx=start_idx, max_new_tokens=100)[0]\n",
    "decoded_generation = decode(generation.tolist())\n",
    "print(decoded_generation)\n",
    "#print(decode(model.generate(idx=start_idx, max_new_tokens=100)[0].tolist()))"
   ]
  },
  {
   "cell_type": "code",
   "execution_count": 192,
   "id": "dbb0ff01-8dbc-4e10-99fe-f96b367eb42e",
   "metadata": {},
   "outputs": [
    {
     "data": {
      "text/plain": [
       "tensor([[3, 3],\n",
       "        [6, 6]])"
      ]
     },
     "execution_count": 192,
     "metadata": {},
     "output_type": "execute_result"
    }
   ],
   "source": [
    "a = torch.tensor([[[1,1],[2,2],[3,3]], [[4,4],[5,5],[6,6]]])\n",
    "a[:,-1,:]"
   ]
  }
 ],
 "metadata": {
  "kernelspec": {
   "display_name": "Python 3 (ipykernel)",
   "language": "python",
   "name": "python3"
  },
  "language_info": {
   "codemirror_mode": {
    "name": "ipython",
    "version": 3
   },
   "file_extension": ".py",
   "mimetype": "text/x-python",
   "name": "python",
   "nbconvert_exporter": "python",
   "pygments_lexer": "ipython3",
   "version": "3.9.4"
  }
 },
 "nbformat": 4,
 "nbformat_minor": 5
}
